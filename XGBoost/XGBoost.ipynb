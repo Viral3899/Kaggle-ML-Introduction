{
 "cells": [
  {
   "cell_type": "code",
   "execution_count": null,
   "id": "71e29efa",
   "metadata": {},
   "outputs": [],
   "source": [
    "!pip install lazypredict\n",
    "!pip install pandas_profiling\n",
    "!pip install XGBoost"
   ]
  },
  {
   "cell_type": "code",
   "execution_count": 5,
   "id": "461708d1",
   "metadata": {},
   "outputs": [],
   "source": [
    "import pandas as pd\n",
    "df=pd.read_csv(\"melb_data.csv\")\n",
    "cols_to_use=['Rooms','Distance','Landsize','BuildingArea','YearBuilt']"
   ]
  },
  {
   "cell_type": "code",
   "execution_count": 7,
   "id": "956ed01b",
   "metadata": {},
   "outputs": [],
   "source": [
    "from sklearn.model_selection import train_test_split\n",
    "x=df[cols_to_use]\n",
    "y=df.Price\n",
    "x_train,x_test,y_train,y_test=train_test_split(x,y,test_size=0.2,random_state=0)\n"
   ]
  },
  {
   "cell_type": "code",
   "execution_count": 13,
   "id": "9f43cfba",
   "metadata": {},
   "outputs": [],
   "source": [
    "from xgboost import XGBRegressor\n",
    "from sklearn.metrics import mean_absolute_error"
   ]
  },
  {
   "cell_type": "code",
   "execution_count": 14,
   "id": "93afe4b0",
   "metadata": {},
   "outputs": [
    {
     "data": {
      "text/plain": [
       "236021.00835615335"
      ]
     },
     "execution_count": 14,
     "metadata": {},
     "output_type": "execute_result"
    }
   ],
   "source": [
    "my_model=XGBRegressor()\n",
    "my_model.fit(x_train,y_train)\n",
    "pred=my_model.predict(x_test)\n",
    "mean_absolute_error(y_test,pred)"
   ]
  },
  {
   "cell_type": "code",
   "execution_count": 15,
   "id": "262fc15c",
   "metadata": {},
   "outputs": [
    {
     "data": {
      "text/plain": [
       "248417.43546345728"
      ]
     },
     "execution_count": 15,
     "metadata": {},
     "output_type": "execute_result"
    }
   ],
   "source": [
    "my_model = XGBRegressor(n_estimators=500)\n",
    "my_model.fit(x_train, y_train)\n",
    "pred=my_model.predict(x_test)\n",
    "mean_absolute_error(y_test,pred)"
   ]
  },
  {
   "cell_type": "code",
   "execution_count": 17,
   "id": "5f753afe",
   "metadata": {},
   "outputs": [
    {
     "data": {
      "text/plain": [
       "238594.2109892765"
      ]
     },
     "execution_count": 17,
     "metadata": {},
     "output_type": "execute_result"
    }
   ],
   "source": [
    "my_model = XGBRegressor(n_estimators=500)\n",
    "my_model.fit(x_train, y_train, \n",
    "             early_stopping_rounds=5, \n",
    "             eval_set=[(x_test, y_test)],\n",
    "             verbose=False)\n",
    "pred=my_model.predict(x_test)\n",
    "mean_absolute_error(y_test,pred)"
   ]
  },
  {
   "cell_type": "code",
   "execution_count": 18,
   "id": "053fea32",
   "metadata": {},
   "outputs": [
    {
     "data": {
      "text/plain": [
       "242422.7209131075"
      ]
     },
     "execution_count": 18,
     "metadata": {},
     "output_type": "execute_result"
    }
   ],
   "source": [
    "my_model = XGBRegressor(n_estimators=1000, learning_rate=0.05)\n",
    "my_model.fit(x_train, y_train, \n",
    "             early_stopping_rounds=5, \n",
    "             eval_set=[(x_test, y_test)], \n",
    "             verbose=False)\n",
    "pred=my_model.predict(x_test)\n",
    "mean_absolute_error(y_test,pred)"
   ]
  },
  {
   "cell_type": "code",
   "execution_count": 19,
   "id": "c1b7febd",
   "metadata": {},
   "outputs": [
    {
     "data": {
      "text/plain": [
       "242422.7209131075"
      ]
     },
     "execution_count": 19,
     "metadata": {},
     "output_type": "execute_result"
    }
   ],
   "source": [
    "my_model = XGBRegressor(n_estimators=1000, learning_rate=0.05, n_jobs=4)\n",
    "my_model.fit(x_train, y_train, \n",
    "             early_stopping_rounds=5, \n",
    "             eval_set=[(x_test, y_test)], \n",
    "             verbose=False)\n",
    "pred=my_model.predict(x_test)\n",
    "mean_absolute_error(y_test,pred)"
   ]
  },
  {
   "cell_type": "markdown",
   "id": "383dc21a",
   "metadata": {},
   "source": [
    "### Practice"
   ]
  },
  {
   "cell_type": "code",
   "execution_count": 37,
   "id": "51c41e2d",
   "metadata": {},
   "outputs": [],
   "source": [
    "df=pd.read_csv(\"train.csv\")\n",
    "df_test=pd.read_csv(\"test.csv\")"
   ]
  },
  {
   "cell_type": "code",
   "execution_count": 38,
   "id": "8c384813",
   "metadata": {},
   "outputs": [],
   "source": [
    "df.dropna(axis=0, subset=['SalePrice'], inplace=True)\n",
    "y = df.SalePrice              \n",
    "df.drop(['SalePrice'], axis=1, inplace=True)\n",
    "low_cardinality_cols=[col for col in df.columns if (df[col].nunique()<10) and df[col].dtype=='object']\n",
    "num_col=[col for col in df.columns if df[col].dtype  in ['int64','float64']]"
   ]
  },
  {
   "cell_type": "code",
   "execution_count": 39,
   "id": "e67e7e50",
   "metadata": {},
   "outputs": [],
   "source": [
    "my_cols=low_cardinality_cols+num_col"
   ]
  },
  {
   "cell_type": "code",
   "execution_count": 46,
   "id": "6e9a13a9",
   "metadata": {},
   "outputs": [],
   "source": [
    "df_used=df[my_cols]\n",
    "df_test_used=df_test[my_cols]"
   ]
  },
  {
   "cell_type": "code",
   "execution_count": 47,
   "id": "77e012e6",
   "metadata": {},
   "outputs": [],
   "source": [
    "df_used=pd.get_dummies(df_used,drop_first=True)\n",
    "df_test_used=pd.get_dummies(df_test_used,drop_first=True)"
   ]
  },
  {
   "cell_type": "code",
   "execution_count": 45,
   "id": "b077d202",
   "metadata": {},
   "outputs": [],
   "source": [
    "x_train,x_test,y_train,y_test=train_test_split(df_used,y,test_size=0.2,random_state=0)"
   ]
  },
  {
   "cell_type": "code",
   "execution_count": 49,
   "id": "55fa49cd",
   "metadata": {},
   "outputs": [
    {
     "data": {
      "text/plain": [
       "18797.289089255137"
      ]
     },
     "execution_count": 49,
     "metadata": {},
     "output_type": "execute_result"
    }
   ],
   "source": [
    "my_model=XGBRegressor()\n",
    "my_model.fit(x_train,y_train)\n",
    "preds=my_model.predict (x_test)\n",
    "mean_absolute_error(y_test,preds)"
   ]
  },
  {
   "cell_type": "code",
   "execution_count": 52,
   "id": "c2fa399a",
   "metadata": {},
   "outputs": [
    {
     "data": {
      "text/plain": [
       "18739.53151755137"
      ]
     },
     "execution_count": 52,
     "metadata": {},
     "output_type": "execute_result"
    }
   ],
   "source": [
    "my_model=XGBRegressor(n_estimators=500)\n",
    "my_model.fit(x_train,y_train)\n",
    "preds=my_model.predict (x_test)\n",
    "mean_absolute_error(y_test,preds)"
   ]
  },
  {
   "cell_type": "code",
   "execution_count": 53,
   "id": "89d788cc",
   "metadata": {},
   "outputs": [
    {
     "data": {
      "text/plain": [
       "18542.67554045377"
      ]
     },
     "execution_count": 53,
     "metadata": {},
     "output_type": "execute_result"
    }
   ],
   "source": [
    "my_model = XGBRegressor(n_estimators=500)\n",
    "my_model.fit(x_train, y_train, \n",
    "             early_stopping_rounds=5, \n",
    "             eval_set=[(x_test, y_test)],\n",
    "             verbose=False)\n",
    "pred=my_model.predict(x_test)\n",
    "mean_absolute_error(y_test,pred)"
   ]
  },
  {
   "cell_type": "code",
   "execution_count": 51,
   "id": "eea7c231",
   "metadata": {},
   "outputs": [
    {
     "data": {
      "text/plain": [
       "17258.319643621577"
      ]
     },
     "execution_count": 51,
     "metadata": {},
     "output_type": "execute_result"
    }
   ],
   "source": [
    "my_model = XGBRegressor(n_estimators=1000, learning_rate=0.05)\n",
    "my_model.fit(x_train, y_train, \n",
    "             early_stopping_rounds=5, \n",
    "             eval_set=[(x_test, y_test)], \n",
    "             verbose=False)\n",
    "pred=my_model.predict(x_test)\n",
    "mean_absolute_error(y_test,pred)"
   ]
  },
  {
   "cell_type": "code",
   "execution_count": 50,
   "id": "77835f19",
   "metadata": {},
   "outputs": [
    {
     "data": {
      "text/plain": [
       "17258.319643621577"
      ]
     },
     "execution_count": 50,
     "metadata": {},
     "output_type": "execute_result"
    }
   ],
   "source": [
    "my_model = XGBRegressor(n_estimators=1000, learning_rate=0.05, n_jobs=4)\n",
    "my_model.fit(x_train, y_train, \n",
    "             early_stopping_rounds=5, \n",
    "             eval_set=[(x_test, y_test)], \n",
    "             verbose=False)\n",
    "pred=my_model.predict(x_test)\n",
    "mean_absolute_error(y_test,pred)"
   ]
  },
  {
   "cell_type": "code",
   "execution_count": 54,
   "id": "3f5a6184",
   "metadata": {},
   "outputs": [
    {
     "name": "stdout",
     "output_type": "stream",
     "text": [
      "[18:28:30] WARNING: C:/Users/Administrator/workspace/xgboost-win64_release_1.5.1/src/learner.cc:576: \n",
      "Parameters: { \"_estimators\" } might not be used.\n",
      "\n",
      "  This could be a false alarm, with some parameters getting used by language bindings but\n",
      "  then being mistakenly passed down to XGBoost core, or some parameter actually being used\n",
      "  but getting flagged wrongly here. Please open an issue if you find any such cases.\n",
      "\n",
      "\n"
     ]
    },
    {
     "data": {
      "text/plain": [
       "18797.289089255137"
      ]
     },
     "execution_count": 54,
     "metadata": {},
     "output_type": "execute_result"
    }
   ],
   "source": [
    "my_model=XGBRegressor(_estimators=1)\n",
    "my_model.fit(x_train,y_train)\n",
    "preds=my_model.predict (x_test)\n",
    "mean_absolute_error(y_test,preds)"
   ]
  }
 ],
 "metadata": {
  "kernelspec": {
   "display_name": "Python 3 (ipykernel)",
   "language": "python",
   "name": "python3"
  },
  "language_info": {
   "codemirror_mode": {
    "name": "ipython",
    "version": 3
   },
   "file_extension": ".py",
   "mimetype": "text/x-python",
   "name": "python",
   "nbconvert_exporter": "python",
   "pygments_lexer": "ipython3",
   "version": "3.9.7"
  }
 },
 "nbformat": 4,
 "nbformat_minor": 5
}
