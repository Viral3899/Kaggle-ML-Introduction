{
 "cells": [
  {
   "cell_type": "code",
   "execution_count": 1,
   "id": "1d742fcd",
   "metadata": {},
   "outputs": [],
   "source": [
    "import pandas as pd\n",
    "import numpy as np\n",
    "from sklearn.model_selection import train_test_split"
   ]
  },
  {
   "cell_type": "code",
   "execution_count": 2,
   "id": "8879a360",
   "metadata": {},
   "outputs": [],
   "source": [
    "df=pd.read_csv(\"train.csv\",index_col='Id')\n",
    "test=pd.read_csv(\"test.csv\",index_col='Id')"
   ]
  },
  {
   "cell_type": "code",
   "execution_count": 3,
   "id": "e9a78d5d",
   "metadata": {},
   "outputs": [],
   "source": [
    "features = ['LotArea', 'YearBuilt', '1stFlrSF', '2ndFlrSF', 'FullBath', 'BedroomAbvGr', 'TotRmsAbvGrd']\n",
    "x=df[features]\n",
    "y=df['SalePrice']\n",
    "testing_features=test[features]"
   ]
  },
  {
   "cell_type": "code",
   "execution_count": 4,
   "id": "d51c569a",
   "metadata": {},
   "outputs": [],
   "source": [
    "x_train,x_test,y_train,y_test=train_test_split(x,y,test_size=0.2,random_state=0)"
   ]
  },
  {
   "cell_type": "code",
   "execution_count": 22,
   "id": "8afb5879",
   "metadata": {},
   "outputs": [],
   "source": [
    "from sklearn.ensemble import RandomForestRegressor\n",
    "from sklearn.metrics import mean_absolute_error,r2_score\n",
    "# Define the models\n",
    "models={'model_1': RandomForestRegressor(n_estimators=50),\n",
    "        'model_2' : RandomForestRegressor(n_estimators=100, random_state=0),\n",
    "        'model_3' : RandomForestRegressor(n_estimators=100, criterion='mae', random_state=0),\n",
    "        'model_4' : RandomForestRegressor(n_estimators=200, min_samples_split=20, random_state=0),\n",
    "        'model_5' : RandomForestRegressor(n_estimators=100, max_depth=7, random_state=0)}"
   ]
  },
  {
   "cell_type": "code",
   "execution_count": 23,
   "id": "476c0ecc",
   "metadata": {},
   "outputs": [
    {
     "name": "stdout",
     "output_type": "stream",
     "text": [
      "model_1 Mean Absolute Error:  24078.701376712328\n",
      "\n",
      "model_1 r2_score:  0.7875342401668188\n",
      "\n",
      "model_2 Mean Absolute Error:  23740.979228636657\n",
      "\n",
      "model_2 r2_score:  0.7923225652100044\n",
      "\n",
      "model_3 Mean Absolute Error:  23528.78421232877\n",
      "\n",
      "model_3 r2_score:  0.7993347351649742\n",
      "\n",
      "model_4 Mean Absolute Error:  23996.676789668687\n",
      "\n",
      "model_4 r2_score:  0.7664169073535742\n",
      "\n",
      "model_5 Mean Absolute Error:  23706.672864217904\n",
      "\n",
      "model_5 r2_score:  0.7824791670349848\n",
      "\n"
     ]
    }
   ],
   "source": [
    "for name, model in models.items():\n",
    "    model_prep=model.fit(x_train,y_train)\n",
    "    y_pred = model_prep.predict(x_test)\n",
    "    print(f\"{name} Mean Absolute Error:  {mean_absolute_error(y_test,y_pred)}\\n\")\n",
    "    print(f\"{name} r2_score:  {r2_score(y_test,y_pred)}\\n\")\n",
    "    \n",
    "   "
   ]
  },
  {
   "cell_type": "code",
   "execution_count": 19,
   "id": "c45199b0",
   "metadata": {},
   "outputs": [],
   "source": [
    "my_model= RandomForestRegressor(n_estimators=100, criterion='mae', random_state=0)"
   ]
  },
  {
   "cell_type": "code",
   "execution_count": 20,
   "id": "fba2bc5b",
   "metadata": {},
   "outputs": [],
   "source": [
    "my_model.fit(x, y)\n",
    "\n",
    "# Generate test predictions\n",
    "preds_test = my_model.predict(testing_features)\n",
    "\n",
    "# Save predictions in format used for competition scoring\n",
    "output = pd.DataFrame({'Id': testing_features.index,\n",
    "                       'SalePrice': preds_test})\n",
    "output.to_csv('submission.csv', index=False)"
   ]
  },
  {
   "cell_type": "code",
   "execution_count": 21,
   "id": "211c9c77",
   "metadata": {},
   "outputs": [
    {
     "data": {
      "text/html": [
       "<div>\n",
       "<style scoped>\n",
       "    .dataframe tbody tr th:only-of-type {\n",
       "        vertical-align: middle;\n",
       "    }\n",
       "\n",
       "    .dataframe tbody tr th {\n",
       "        vertical-align: top;\n",
       "    }\n",
       "\n",
       "    .dataframe thead th {\n",
       "        text-align: right;\n",
       "    }\n",
       "</style>\n",
       "<table border=\"1\" class=\"dataframe\">\n",
       "  <thead>\n",
       "    <tr style=\"text-align: right;\">\n",
       "      <th></th>\n",
       "      <th>Id</th>\n",
       "      <th>SalePrice</th>\n",
       "    </tr>\n",
       "  </thead>\n",
       "  <tbody>\n",
       "    <tr>\n",
       "      <th>0</th>\n",
       "      <td>1461</td>\n",
       "      <td>119433.08</td>\n",
       "    </tr>\n",
       "    <tr>\n",
       "      <th>1</th>\n",
       "      <td>1462</td>\n",
       "      <td>158367.50</td>\n",
       "    </tr>\n",
       "    <tr>\n",
       "      <th>2</th>\n",
       "      <td>1463</td>\n",
       "      <td>185351.21</td>\n",
       "    </tr>\n",
       "    <tr>\n",
       "      <th>3</th>\n",
       "      <td>1464</td>\n",
       "      <td>178343.12</td>\n",
       "    </tr>\n",
       "    <tr>\n",
       "      <th>4</th>\n",
       "      <td>1465</td>\n",
       "      <td>192898.29</td>\n",
       "    </tr>\n",
       "    <tr>\n",
       "      <th>...</th>\n",
       "      <td>...</td>\n",
       "      <td>...</td>\n",
       "    </tr>\n",
       "    <tr>\n",
       "      <th>1454</th>\n",
       "      <td>2915</td>\n",
       "      <td>86155.00</td>\n",
       "    </tr>\n",
       "    <tr>\n",
       "      <th>1455</th>\n",
       "      <td>2916</td>\n",
       "      <td>89050.00</td>\n",
       "    </tr>\n",
       "    <tr>\n",
       "      <th>1456</th>\n",
       "      <td>2917</td>\n",
       "      <td>156296.92</td>\n",
       "    </tr>\n",
       "    <tr>\n",
       "      <th>1457</th>\n",
       "      <td>2918</td>\n",
       "      <td>132232.50</td>\n",
       "    </tr>\n",
       "    <tr>\n",
       "      <th>1458</th>\n",
       "      <td>2919</td>\n",
       "      <td>230870.60</td>\n",
       "    </tr>\n",
       "  </tbody>\n",
       "</table>\n",
       "<p>1459 rows × 2 columns</p>\n",
       "</div>"
      ],
      "text/plain": [
       "        Id  SalePrice\n",
       "0     1461  119433.08\n",
       "1     1462  158367.50\n",
       "2     1463  185351.21\n",
       "3     1464  178343.12\n",
       "4     1465  192898.29\n",
       "...    ...        ...\n",
       "1454  2915   86155.00\n",
       "1455  2916   89050.00\n",
       "1456  2917  156296.92\n",
       "1457  2918  132232.50\n",
       "1458  2919  230870.60\n",
       "\n",
       "[1459 rows x 2 columns]"
      ]
     },
     "execution_count": 21,
     "metadata": {},
     "output_type": "execute_result"
    }
   ],
   "source": [
    "results=pd.read_csv(\"submission.csv\")\n",
    "results"
   ]
  }
 ],
 "metadata": {
  "kernelspec": {
   "display_name": "Python 3 (ipykernel)",
   "language": "python",
   "name": "python3"
  },
  "language_info": {
   "codemirror_mode": {
    "name": "ipython",
    "version": 3
   },
   "file_extension": ".py",
   "mimetype": "text/x-python",
   "name": "python",
   "nbconvert_exporter": "python",
   "pygments_lexer": "ipython3",
   "version": "3.9.7"
  }
 },
 "nbformat": 4,
 "nbformat_minor": 5
}
