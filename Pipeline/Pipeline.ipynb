{
 "cells": [
  {
   "cell_type": "code",
   "execution_count": 8,
   "id": "d25b8980",
   "metadata": {},
   "outputs": [
    {
     "data": {
      "text/plain": [
       "['Type', 'Method', 'Regionname']"
      ]
     },
     "execution_count": 8,
     "metadata": {},
     "output_type": "execute_result"
    }
   ],
   "source": [
    "import pandas as pd\n",
    "from sklearn.model_selection import train_test_split\n",
    "\n",
    "\n",
    "\n",
    "df=pd.read_csv(\"melb_data.csv\")\n",
    "y=df.Price\n",
    "x=df.drop(['Price'],axis=1)\n",
    "\n",
    "\n",
    "x_train,x_test,y_train,y_test=train_test_split(x,y,test_size=0.2,random_state=0)\n",
    "\n",
    "cat_col=[col for col in x_train.columns if x_train[col].nunique() < 10  and\n",
    "         x_train[col].dtype=='object']\n",
    "cat_col"
   ]
  },
  {
   "cell_type": "code",
   "execution_count": 9,
   "id": "15e343a8",
   "metadata": {},
   "outputs": [
    {
     "name": "stdout",
     "output_type": "stream",
     "text": [
      "['Rooms', 'Distance', 'Postcode', 'Bedroom2', 'Bathroom', 'Car', 'Landsize', 'BuildingArea', 'YearBuilt', 'Lattitude', 'Longtitude', 'Propertycount']\n"
     ]
    }
   ],
   "source": [
    "num_col=[col for col in x_train.columns if\n",
    "         x_train[col].dtype in ['int64','float64']]\n",
    "print(num_col)\n",
    "\n",
    "\n",
    "my_col = cat_col+ num_col\n",
    "x_train_copy=x_train[my_col].copy()\n",
    "x_test_copy=x_test[my_col].copy()\n"
   ]
  },
  {
   "cell_type": "code",
   "execution_count": 4,
   "id": "15e2494f",
   "metadata": {},
   "outputs": [],
   "source": [
    "from sklearn.compose import ColumnTransformer\n",
    "from sklearn.pipeline import Pipeline\n",
    "from sklearn.impute import SimpleImputer\n",
    "from sklearn.preprocessing import OneHotEncoder"
   ]
  },
  {
   "cell_type": "code",
   "execution_count": 5,
   "id": "46a8da50",
   "metadata": {},
   "outputs": [],
   "source": [
    "numerical_transformer=SimpleImputer(strategy='constant')\n",
    "\n",
    "\n",
    "categorical_transformer=Pipeline(steps=[('imputer',SimpleImputer(strategy='most_frequent')),\n",
    "                                       ('onehot',OneHotEncoder(handle_unknown='ignore'))])\n",
    "\n",
    "preprocessor=ColumnTransformer(transformers=[('num',numerical_transformer,num_col),\n",
    "                                            ('cat',categorical_transformer,cat_col)])"
   ]
  },
  {
   "cell_type": "code",
   "execution_count": 6,
   "id": "8d7327a7",
   "metadata": {},
   "outputs": [],
   "source": [
    "from sklearn.ensemble import RandomForestRegressor\n",
    "model=RandomForestRegressor(n_estimators=100,random_state=0)"
   ]
  },
  {
   "cell_type": "code",
   "execution_count": 10,
   "id": "98d00ac7",
   "metadata": {},
   "outputs": [
    {
     "data": {
      "text/plain": [
       "160679.18917034855"
      ]
     },
     "execution_count": 10,
     "metadata": {},
     "output_type": "execute_result"
    }
   ],
   "source": [
    "from sklearn.metrics import mean_absolute_error\n",
    "\n",
    "my_pipeline=Pipeline(steps=[('preprocessor',preprocessor),\n",
    "                           ('model',model)])\n",
    "\n",
    "my_pipeline.fit(x_train_copy,y_train)\n",
    "\n",
    "\n",
    "preds=my_pipeline.predict(x_test_copy)\n",
    "\n",
    "\n",
    "score=mean_absolute_error(y_test,preds)\n",
    "score"
   ]
  },
  {
   "cell_type": "markdown",
   "id": "61895970",
   "metadata": {},
   "source": [
    "### Practice"
   ]
  },
  {
   "cell_type": "code",
   "execution_count": 11,
   "id": "29a7b92c",
   "metadata": {},
   "outputs": [
    {
     "name": "stdout",
     "output_type": "stream",
     "text": [
      "['MSZoning', 'Street', 'Alley', 'LotShape', 'LandContour', 'Utilities', 'LotConfig', 'LandSlope', 'Condition1', 'Condition2', 'BldgType', 'HouseStyle', 'RoofStyle', 'RoofMatl', 'MasVnrType', 'ExterQual', 'ExterCond', 'Foundation', 'BsmtQual', 'BsmtCond', 'BsmtExposure', 'BsmtFinType1', 'BsmtFinType2', 'Heating', 'HeatingQC', 'CentralAir', 'Electrical', 'KitchenQual', 'Functional', 'FireplaceQu', 'GarageType', 'GarageFinish', 'GarageQual', 'GarageCond', 'PavedDrive', 'PoolQC', 'Fence', 'MiscFeature', 'SaleType', 'SaleCondition']\n",
      "['Id', 'MSSubClass', 'LotFrontage', 'LotArea', 'OverallQual', 'OverallCond', 'YearBuilt', 'YearRemodAdd', 'MasVnrArea', 'BsmtFinSF1', 'BsmtFinSF2', 'BsmtUnfSF', 'TotalBsmtSF', '1stFlrSF', '2ndFlrSF', 'LowQualFinSF', 'GrLivArea', 'BsmtFullBath', 'BsmtHalfBath', 'FullBath', 'HalfBath', 'BedroomAbvGr', 'KitchenAbvGr', 'TotRmsAbvGrd', 'Fireplaces', 'GarageYrBlt', 'GarageCars', 'GarageArea', 'WoodDeckSF', 'OpenPorchSF', 'EnclosedPorch', '3SsnPorch', 'ScreenPorch', 'PoolArea', 'MiscVal', 'MoSold', 'YrSold']\n"
     ]
    }
   ],
   "source": [
    "df=pd.read_csv(\"train.csv\")\n",
    "df_test=pd.read_csv(\"test.csv\")\n",
    "\n",
    "df.dropna(axis=0,subset=['SalePrice'],inplace=True)\n",
    "y=df.SalePrice\n",
    "x=df.drop('SalePrice',axis=1)\n",
    "\n",
    "x_train,x_test,y_train,y_test=train_test_split(x,y,test_size=0.2,random_state=0)\n",
    "\n",
    "\n",
    "cat_col=[col for col in x_train.columns if x_train[col].nunique() < 10  and\n",
    "         x_train[col].dtype=='object']\n",
    "print(cat_col)\n",
    "\n",
    "\n",
    "num_col=[col for col in x_train.columns if\n",
    "         x_train[col].dtype in ['int64','float64']]\n",
    "print(num_col)\n",
    "\n",
    "\n",
    "my_col = cat_col+ num_col\n",
    "x_train_copy=x_train[my_col].copy()\n",
    "x_test_copy=x_test[my_col].copy()\n",
    "df_test_copy=df_test[my_col].copy()"
   ]
  },
  {
   "cell_type": "code",
   "execution_count": 14,
   "id": "374c68b2",
   "metadata": {},
   "outputs": [
    {
     "data": {
      "text/plain": [
       "17769.80962328767"
      ]
     },
     "execution_count": 14,
     "metadata": {},
     "output_type": "execute_result"
    }
   ],
   "source": [
    "from sklearn.compose import ColumnTransformer\n",
    "from sklearn.pipeline import Pipeline\n",
    "from sklearn.impute import SimpleImputer\n",
    "from sklearn.preprocessing import OneHotEncoder\n",
    "from sklearn.ensemble import RandomForestRegressor\n",
    "from sklearn.metrics import mean_absolute_error\n",
    "\n",
    "\n",
    "\n",
    "numerical_transformer=SimpleImputer(strategy='constant')\n",
    "\n",
    "categorical_transformer=Pipeline(steps=[\n",
    "    ('imputer',SimpleImputer(strategy='constant')),\n",
    "    ('onhot',OneHotEncoder(handle_unknown='ignore'))\n",
    "])\n",
    "\n",
    "\n",
    "\n",
    "preprocessor=ColumnTransformer(transformers=[('num',numerical_transformer,num_col),\n",
    "                                            ('cat',categorical_transformer,cat_col)])\n",
    "\n",
    "\n",
    "\n",
    "\n",
    "model=RandomForestRegressor(n_estimators=100,random_state=0)\n",
    "\n",
    "\n",
    "my_pipeline=Pipeline(steps=[\n",
    "    ('preprocessor',preprocessor),\n",
    "    ('model',model)\n",
    "])\n",
    "\n",
    "\n",
    "my_pipeline.fit(x_train,y_train)\n",
    "\n",
    "\n",
    "preds=my_pipeline.predict(x_test)\n",
    "    \n",
    "\n",
    "mean_absolute_error(y_test,preds)"
   ]
  }
 ],
 "metadata": {
  "kernelspec": {
   "display_name": "Python 3 (ipykernel)",
   "language": "python",
   "name": "python3"
  },
  "language_info": {
   "codemirror_mode": {
    "name": "ipython",
    "version": 3
   },
   "file_extension": ".py",
   "mimetype": "text/x-python",
   "name": "python",
   "nbconvert_exporter": "python",
   "pygments_lexer": "ipython3",
   "version": "3.9.7"
  }
 },
 "nbformat": 4,
 "nbformat_minor": 5
}
