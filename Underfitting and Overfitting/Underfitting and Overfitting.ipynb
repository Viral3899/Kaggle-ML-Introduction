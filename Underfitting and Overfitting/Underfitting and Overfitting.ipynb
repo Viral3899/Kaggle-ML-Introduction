{
 "cells": [
  {
   "cell_type": "code",
   "execution_count": 2,
   "id": "9788bb5e",
   "metadata": {},
   "outputs": [],
   "source": [
    "import pandas as pd\n",
    "import numpy as np\n",
    "df=pd.read_csv(\"melb_data.csv\")"
   ]
  },
  {
   "cell_type": "code",
   "execution_count": 5,
   "id": "6fd6ff94",
   "metadata": {},
   "outputs": [],
   "source": [
    "df = df.dropna(axis=0)\n",
    "# Choose target and features\n",
    "y = df.Price\n",
    "X = ['Rooms', 'Bathroom', 'Landsize', 'BuildingArea', \n",
    "                        'YearBuilt', 'Lattitude', 'Longtitude']\n",
    "X = df[X]"
   ]
  },
  {
   "cell_type": "code",
   "execution_count": 6,
   "id": "9ae967fe",
   "metadata": {},
   "outputs": [],
   "source": [
    "from sklearn.model_selection import train_test_split\n",
    "X_train,X_test,y_train,y_test=train_test_split(X,y,random_state=0)"
   ]
  },
  {
   "cell_type": "code",
   "execution_count": 7,
   "id": "c747b0ea",
   "metadata": {
    "scrolled": true
   },
   "outputs": [
    {
     "name": "stdout",
     "output_type": "stream",
     "text": [
      "Mean Absolute Error for Leaf Node 5 is 347380.33833344496\n",
      "Mean Absolute Error for Leaf Node 50 is 258171.21202406782\n",
      "Mean Absolute Error for Leaf Node 500 is 243495.96361790417\n",
      "Mean Absolute Error for Leaf Node 5000 is 254983.64299548094\n"
     ]
    }
   ],
   "source": [
    "from sklearn.tree import DecisionTreeRegressor\n",
    "from sklearn.metrics import mean_absolute_error\n",
    "for i in (5,50,500,5000):\n",
    "    model=DecisionTreeRegressor(max_leaf_nodes=i,random_state=-0)\n",
    "    model.fit(X_train,y_train)\n",
    "    predicted=model.predict(X_test)\n",
    "    print(f\"Mean Absolute Error for Leaf Node {i} is {mean_absolute_error(y_test,predicted)}\") "
   ]
  },
  {
   "cell_type": "markdown",
   "id": "845aeaa8",
   "metadata": {},
   "source": [
    "### Practice"
   ]
  },
  {
   "cell_type": "code",
   "execution_count": 8,
   "id": "e080cc0f",
   "metadata": {},
   "outputs": [],
   "source": [
    "df=pd.read_csv(\"train.csv\")\n",
    "X_train,X_test,y_train,y_test=train_test_split(X,y,random_state=0)"
   ]
  },
  {
   "cell_type": "code",
   "execution_count": 9,
   "id": "6857a879",
   "metadata": {},
   "outputs": [
    {
     "name": "stdout",
     "output_type": "stream",
     "text": [
      "Mean Absolute Error for Leaf Node 5 is 347380.33833344496\n",
      "Mean Absolute Error for Leaf Node 50 is 258171.21202406782\n",
      "Mean Absolute Error for Leaf Node 500 is 243495.96361790417\n",
      "Mean Absolute Error for Leaf Node 5000 is 254983.64299548094\n"
     ]
    }
   ],
   "source": [
    "for i in (5,50,500,5000):\n",
    "    model=DecisionTreeRegressor(max_leaf_nodes=i,random_state=-0)\n",
    "    model.fit(X_train,y_train)\n",
    "    predicted=model.predict(X_test)\n",
    "    print(f\"Mean Absolute Error for Leaf Node {i} is {mean_absolute_error(y_test,predicted)}\")"
   ]
  },
  {
   "cell_type": "markdown",
   "id": "f2f18416",
   "metadata": {},
   "source": [
    "### Practice"
   ]
  },
  {
   "cell_type": "code",
   "execution_count": 18,
   "id": "5b143f68",
   "metadata": {},
   "outputs": [
    {
     "name": "stdout",
     "output_type": "stream",
     "text": [
      "Validation MAE: 29,653\n"
     ]
    }
   ],
   "source": [
    "import pandas as pd\n",
    "from sklearn.metrics import mean_absolute_error\n",
    "from sklearn.model_selection import train_test_split\n",
    "from sklearn.tree import DecisionTreeRegressor\n",
    "\n",
    "\n",
    "\n",
    "df = pd.read_csv(\"train.csv\")\n",
    "# Create target object and call it y\n",
    "y = df.SalePrice\n",
    "# Create X\n",
    "features = ['LotArea', 'YearBuilt', '1stFlrSF', '2ndFlrSF', 'FullBath', 'BedroomAbvGr', 'TotRmsAbvGrd']\n",
    "X = df[features]\n",
    "\n",
    "# Split into validation and training data\n",
    "X_train,X_test,y_train,y_test=train_test_split(X,y,random_state=1)\n",
    "# Specify Model\n",
    "model = DecisionTreeRegressor(random_state=1)\n",
    "# Fit Model\n",
    "model.fit(X_train, y_train)\n",
    "\n",
    "# Make validation predictions and calculate mean absolute error\n",
    "val_predictions = model.predict(X_test)\n",
    "val_mae = mean_absolute_error(y_test,val_predictions)\n",
    "print(\"Validation MAE: {:,.0f}\".format(val_mae))\n"
   ]
  },
  {
   "cell_type": "code",
   "execution_count": 19,
   "id": "1792340f",
   "metadata": {},
   "outputs": [],
   "source": [
    "def get_mae(max_leaf_nodes, X_train,X_test,y_train,y_test):\n",
    "    model = DecisionTreeRegressor(max_leaf_nodes=max_leaf_nodes, random_state=0)\n",
    "    model.fit(X_train, y_train)\n",
    "    preds_val = model.predict(X_test)\n",
    "    mae = mean_absolute_error(y_test, preds_val)\n",
    "    return(mae)"
   ]
  },
  {
   "cell_type": "code",
   "execution_count": 22,
   "id": "7e394975",
   "metadata": {},
   "outputs": [
    {
     "name": "stdout",
     "output_type": "stream",
     "text": [
      "{5: 35044.51299744237, 25: 29016.41319191076, 50: 27405.930473214907, 100: 27282.50803885739, 250: 27893.822225701646, 500: 29454.18598068598}\n",
      "\n",
      "100\n"
     ]
    }
   ],
   "source": [
    "candidate_max_leaf_nodes = [5, 25, 50, 100, 250, 500]\n",
    "# Write loop to find the ideal tree size from candidate_max_leaf_nodes\n",
    "scores={leaf_size:get_mae(leaf_size,X_train,X_test,y_train,y_test) for leaf_size in candidate_max_leaf_nodes}\n",
    "print(scores)\n",
    "# Store the best value of max_leaf_nodes (it will be either 5, 25, 50, 100, 250 or 500)\n",
    "\n",
    "best_tree_size = min(scores,key=scores.get)\n",
    "print()\n",
    "\n",
    "print(best_tree_size)"
   ]
  },
  {
   "cell_type": "code",
   "execution_count": 23,
   "id": "14d8c6fd",
   "metadata": {},
   "outputs": [
    {
     "data": {
      "text/plain": [
       "DecisionTreeRegressor(max_leaf_nodes=100, random_state=1)"
      ]
     },
     "execution_count": 23,
     "metadata": {},
     "output_type": "execute_result"
    }
   ],
   "source": [
    "final_model = DecisionTreeRegressor(max_leaf_nodes=best_tree_size,random_state=1)\n",
    "\n",
    "final_model.fit(X, y)"
   ]
  }
 ],
 "metadata": {
  "kernelspec": {
   "display_name": "Python 3 (ipykernel)",
   "language": "python",
   "name": "python3"
  },
  "language_info": {
   "codemirror_mode": {
    "name": "ipython",
    "version": 3
   },
   "file_extension": ".py",
   "mimetype": "text/x-python",
   "name": "python",
   "nbconvert_exporter": "python",
   "pygments_lexer": "ipython3",
   "version": "3.9.7"
  }
 },
 "nbformat": 4,
 "nbformat_minor": 5
}
